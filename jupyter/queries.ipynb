{
 "cells": [
  {
   "cell_type": "code",
   "execution_count": null,
   "metadata": {
    "collapsed": false
   },
   "outputs": [],
   "source": [
    "import _mysql\n",
    "import time\n",
    "import matplotlib.pyplot as plt\n",
    "from drawnow import drawnow\n",
    "\n",
    "username = 'sgrosu'\n",
    "passwd = '*'\n",
    "host = '172.25.164.200'\n",
    "db = 'performance_schema'\n",
    "con = _mysql.connect(user=username,passwd=passwd,host=host,db=db)\n",
    "qlist = [0]\n",
    "\n",
    "def plotValues():\n",
    "    plt.title('Number of queries per second')\n",
    "    plt.grid(True)\n",
    "    plt.ylabel('Values')\n",
    "    plt.xlabel('Time')\n",
    "    plt.plot(qlist, 'rx-', label='values')\n",
    "    plt.legend(loc='upper right')\n",
    "    \n",
    "while True:\n",
    "\n",
    "    q = con.query(\"show status where variable_name='queries';\")\n",
    "    res = con.store_result()\n",
    "\n",
    "    queries = res.fetch_row()[0][1]\n",
    "    \n",
    "    qlist.append(int(queries))\n",
    "    qlist.pop(0)\n",
    "    time.sleep(1)\n",
    "    #print qlist\n",
    "    drawnow(plotValues)\n",
    "    "
   ]
  }
 ],
 "metadata": {
  "kernelspec": {
   "display_name": "Python 2",
   "language": "python",
   "name": "python2"
  },
  "language_info": {
   "codemirror_mode": {
    "name": "ipython",
    "version": 2
   },
   "file_extension": ".py",
   "mimetype": "text/x-python",
   "name": "python",
   "nbconvert_exporter": "python",
   "pygments_lexer": "ipython2",
   "version": "2.7.13"
  }
 },
 "nbformat": 4,
 "nbformat_minor": 2
}
