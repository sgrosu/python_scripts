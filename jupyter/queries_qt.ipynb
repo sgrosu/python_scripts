{
 "cells": [
  {
   "cell_type": "code",
   "execution_count": 27,
   "metadata": {
    "collapsed": false
   },
   "outputs": [],
   "source": [
    "import _mysql\n",
    "import time\n",
    "import pyqtgraph as pg\n",
    "from pyqtgraph.Qt import QtCore, QtGui\n",
    "import numpy as np\n",
    "from __future__ import division\n",
    "\n",
    "win = pg.GraphicsWindow()\n",
    "win.setWindowTitle('pyqtgraph: Mysql average queries per minute')\n",
    "\n",
    "username = 'sgrosu'\n",
    "passwd = '*'\n",
    "host = '178.18.120.53'\n",
    "db = 'performance_schema'\n",
    "con = _mysql.connect(user=username,passwd=passwd,host=host,db=db)\n",
    "data1 = np.zeros((40,),dtype=np.int)\n",
    "data2 = np.zeros((40,),dtype=np.int)\n",
    "#p1 = win.addPlot()\n",
    "p2 = win.addPlot()\n",
    "#data1 = np.random.normal(size=300)\n",
    "#curve1 = p1.plot(data2)\n",
    "curve2 = p2.plot(data2)\n",
    "ptr1 = 0\n",
    "def update1():\n",
    "    global data1,data2, curve1, ptr1\n",
    "    \n",
    "    q = con.query(\"show status where variable_name='queries';\")\n",
    "    res = con.store_result()\n",
    "\n",
    "    queries = res.fetch_row()[0][1]\n",
    "    \n",
    "    #time.sleep(10)\n",
    "    \n",
    "    data1[:-1] = data1[1:]  # shift data in the array one sample left\n",
    "                            # (see also: np.roll)\n",
    "    data1[-1] = queries\n",
    "    \n",
    "    data2[:-1] = data2[1:]\n",
    "    data2[-1] = (abs(data1[-1] - data1[-2])*6)\n",
    "    #print data2\n",
    "    #print data1\n",
    "    ptr1 += 1\n",
    "    curve2.setData(data2)\n",
    "    curve2.setPos(ptr1, 0)\n",
    "    \n",
    "\n",
    "\n",
    "timer = pg.QtCore.QTimer()\n",
    "timer.timeout.connect(update1)\n",
    "timer.start(10000)\n",
    "\n",
    "## Start Qt event loop unless running in interactive mode or using pyside.\n",
    "if __name__ == '__main__':\n",
    "    import sys\n",
    "    if (sys.flags.interactive != 1) or not hasattr(QtCore, 'PYQT_VERSION'):\n",
    "        QtGui.QApplication.instance().exec_()\n",
    "    "
   ]
  }
 ],
 "metadata": {
  "kernelspec": {
   "display_name": "Python 2",
   "language": "python",
   "name": "python2"
  },
  "language_info": {
   "codemirror_mode": {
    "name": "ipython",
    "version": 2
   },
   "file_extension": ".py",
   "mimetype": "text/x-python",
   "name": "python",
   "nbconvert_exporter": "python",
   "pygments_lexer": "ipython2",
   "version": "2.7.13"
  }
 },
 "nbformat": 4,
 "nbformat_minor": 2
}
