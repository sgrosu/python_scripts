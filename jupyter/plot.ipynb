{
 "cells": [
  {
   "cell_type": "code",
   "execution_count": 2,
   "metadata": {
    "collapsed": false
   },
   "outputs": [
    {
     "name": "stdout",
     "output_type": "stream",
     "text": [
      "height = 10\n"
     ]
    },
    {
     "data": {
      "image/png": "[encoded data removed]",
      "text/plain": [
       "<matplotlib.figure.Figure at 0x7eff0147b590>"
      ]
     },
     "metadata": {},
     "output_type": "display_data"
    }
   ],
   "source": [
    "\n",
    "from math import *\n",
    "import numpy as np\n",
    "from matplotlib import pyplot as plt\n",
    "from matplotlib import animation\n",
    "\n",
    "\n",
    "def Plongeon():\n",
    "    h = float(input(\"height = \"))\n",
    "    g = 9.81\n",
    "\n",
    "    #calculate air time, Tc\n",
    "    Tc = sqrt(2 * h / g)\n",
    "\n",
    "    # First set up the figure, the axis, and the plot element we want to animate\n",
    "    fig = plt.figure()\n",
    "    ax = plt.axes(xlim=(0, 2), ylim=(-2, h+1))  #ymax : initial height+1\n",
    "    line, = ax.plot([], [], ' o', lw=2)\n",
    "\n",
    "    step = 0.01  # animation step\n",
    "    xs = [1]  # the vertical position is fixed on x-axis\n",
    "    ys = [h]\n",
    "\n",
    "\n",
    "    # animation function.  This is called sequentially\n",
    "    def animate(y):\n",
    "        ys[-1] = y\n",
    "        line.set_data(xs, ys)\n",
    "        return line,\n",
    "\n",
    "    def get_y():\n",
    "        t = 0\n",
    "        while t <= Tc:\n",
    "            y = -0.5 * g * t**2 + h  # the equation of diver's displacement on y axis\n",
    "            yield y\n",
    "            t += step\n",
    "\n",
    "    # call the animator.  blit=True means only re-draw the parts that have changed.\n",
    "    anim = animation.FuncAnimation(fig, animate, frames=get_y, interval=100)\n",
    "\n",
    "    plt.show()\n",
    "Plongeon()"
   ]
  }
 ],
 "metadata": {
  "kernelspec": {
   "display_name": "Python 2",
   "language": "python",
   "name": "python2"
  },
  "language_info": {
   "codemirror_mode": {
    "name": "ipython",
    "version": 2
   },
   "file_extension": ".py",
   "mimetype": "text/x-python",
   "name": "python",
   "nbconvert_exporter": "python",
   "pygments_lexer": "ipython2",
   "version": "2.7.13"
  }
 },
 "nbformat": 4,
 "nbformat_minor": 2
}
